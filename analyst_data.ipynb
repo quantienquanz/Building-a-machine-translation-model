{
  "nbformat": 4,
  "nbformat_minor": 0,
  "metadata": {
    "colab": {
      "provenance": [],
      "toc_visible": true
    },
    "kernelspec": {
      "name": "python3",
      "display_name": "Python 3"
    },
    "language_info": {
      "name": "python"
    }
  },
  "cells": [
    {
      "cell_type": "code",
      "source": [],
      "metadata": {
        "id": "ts3a_AvBevFl"
      },
      "execution_count": null,
      "outputs": []
    },
    {
      "cell_type": "markdown",
      "source": [
        "# mô tả dữ liệu"
      ],
      "metadata": {
        "id": "OwswBjYae9fm"
      }
    },
    {
      "cell_type": "markdown",
      "source": [
        "* Mục đích của tệp dữ dùng để xây dựng mô hình dịch máy chính xác và linh hoạt\n",
        "* Cụ thể dịch từ tiếng anh sang tiếng việt\n",
        "\n",
        "\n",
        "* Tệp dữ liệu đã được dịch bằng... độ chính xác đã được sửa lỗi\n",
        "\n",
        "* Kích thước của tệp dữ liệu\n",
        "\n",
        "* Tệp dữ liệu có 4 tệp 2 file tiếng anh và 2 file tiếng việt\n",
        "file lớn nhất khoảnge 6tr từ, file nhỏ nhất khoảng 55k từ\n",
        "\n",
        "* Ngữ cảnh văn bản là các câu,đoạn văn,bài viết tiểu thuyết,câu chuyện\n",
        " - chủ đề về lịch sử nhân vật,khoa học đời sống....\n",
        " - tập dữ liệu có thể bao gồm các thể loại văn bản khác nhau như tin tức, bài viết blog, sách, bài báo khoa học\n",
        "\n",
        "* quá trình thu thập dữ liệu: downloads trên kaggle,...đã được xử lý làm sạch chuẩn hóa."
      ],
      "metadata": {
        "id": "DO89kiLMfDE2"
      }
    },
    {
      "cell_type": "markdown",
      "source": [
        "# Phân tích dữ liệu"
      ],
      "metadata": {
        "id": "vfrYKrZveyMs"
      }
    },
    {
      "cell_type": "markdown",
      "source": [
        "### Khai báo thư viện cần sử dụng"
      ],
      "metadata": {
        "id": "Z9r8NTWOf1kT"
      }
    },
    {
      "cell_type": "code",
      "execution_count": 70,
      "metadata": {
        "id": "lQr2IeJFaH43",
        "colab": {
          "base_uri": "https://localhost:8080/"
        },
        "outputId": "d31da160-af5e-4feb-d225-0e02f3862293"
      },
      "outputs": [
        {
          "output_type": "stream",
          "name": "stderr",
          "text": [
            "[nltk_data] Downloading package punkt to /root/nltk_data...\n",
            "[nltk_data]   Unzipping tokenizers/punkt.zip.\n"
          ]
        },
        {
          "output_type": "execute_result",
          "data": {
            "text/plain": [
              "True"
            ]
          },
          "metadata": {},
          "execution_count": 70
        }
      ],
      "source": [
        "import pandas as pd\n",
        "import os\n",
        "from nltk.tokenize import word_tokenize\n",
        "from nltk.probability import FreqDist\n",
        "import matplotlib.pyplot as plt\n",
        "import nltk\n",
        "nltk.download('punkt')"
      ]
    },
    {
      "cell_type": "markdown",
      "source": [
        "### Đọc dữ liệu"
      ],
      "metadata": {
        "id": "f9zluswHgE6U"
      }
    },
    {
      "cell_type": "code",
      "source": [
        "dataset3_path = \"/content/drive/MyDrive/dataset3\"\n",
        "path = \"/content/drive/MyDrive/dataset3\""
      ],
      "metadata": {
        "id": "AzCIsmjjacQ2"
      },
      "execution_count": 67,
      "outputs": []
    },
    {
      "cell_type": "code",
      "source": [
        "train_dataset3_en = pd.read_csv(os.path.join(dataset3_path, \"train.en\"), sep=\"\\t\", names=[\"en\"])\n",
        "test_dataset3_en = pd.read_csv(os.path.join(dataset3_path, \"tst2012.en\"), sep=\"\\t\", names=[\"en\"])"
      ],
      "metadata": {
        "id": "2f_XVtxDbzEF",
        "colab": {
          "base_uri": "https://localhost:8080/"
        },
        "outputId": "e8a89c07-09f0-4892-a622-d176952500e0"
      },
      "execution_count": null,
      "outputs": [
        {
          "output_type": "stream",
          "name": "stderr",
          "text": [
            "<ipython-input-43-1b6139a0a444>:1: DtypeWarning: Columns (0) have mixed types. Specify dtype option on import or set low_memory=False.\n",
            "  train_dataset3_en = pd.read_csv(os.path.join(dataset3_path, \"train.en\"), sep=\"\\t\", names=[\"en\"])\n"
          ]
        }
      ]
    },
    {
      "cell_type": "code",
      "source": [
        "train_dataset3_vi = pd.read_csv(os.path.join(dataset3_path, \"train.vi\"), sep=\"\\t\", names=[\"vi\"])\n",
        "test_dataset3_vi = pd.read_csv(os.path.join(dataset3_path, \"tst2012.vi\"), sep=\"\\t\", names=[\"vi\"])"
      ],
      "metadata": {
        "colab": {
          "base_uri": "https://localhost:8080/"
        },
        "id": "ca2Z7Cl3dtkW",
        "outputId": "6c3bdbe7-0b83-49cf-ae50-f49789b0f910"
      },
      "execution_count": null,
      "outputs": [
        {
          "output_type": "stream",
          "name": "stderr",
          "text": [
            "<ipython-input-44-a2a0d48f4e02>:1: DtypeWarning: Columns (0) have mixed types. Specify dtype option on import or set low_memory=False.\n",
            "  train_dataset3_vi = pd.read_csv(os.path.join(dataset3_path, \"train.vi\"), sep=\"\\t\", names=[\"vi\"])\n"
          ]
        }
      ]
    },
    {
      "cell_type": "code",
      "source": [
        "train_en = pd.read_csv(path + \"/train.en\", delimiter=\"\\t\")"
      ],
      "metadata": {
        "colab": {
          "base_uri": "https://localhost:8080/"
        },
        "id": "_Xrd4xWUAH_2",
        "outputId": "77e62de6-8e19-417a-e16e-049a84d82dfe"
      },
      "execution_count": 68,
      "outputs": [
        {
          "output_type": "stream",
          "name": "stderr",
          "text": [
            "<ipython-input-68-2bc3e5d6e5c8>:1: DtypeWarning: Columns (0) have mixed types. Specify dtype option on import or set low_memory=False.\n",
            "  train_en = pd.read_csv(path + \"/train.en\", delimiter=\"\\t\")\n"
          ]
        }
      ]
    },
    {
      "cell_type": "code",
      "source": [
        "\n",
        "train_vi = pd.read_csv(path + \"/train.vi\", delimiter=\"\\t\")"
      ],
      "metadata": {
        "colab": {
          "base_uri": "https://localhost:8080/"
        },
        "id": "eCG14PGiA1OQ",
        "outputId": "14998b64-b165-4913-cd70-a1d8bed0d2cc"
      },
      "execution_count": 73,
      "outputs": [
        {
          "output_type": "stream",
          "name": "stderr",
          "text": [
            "<ipython-input-73-c3346b8428b0>:1: DtypeWarning: Columns (0) have mixed types. Specify dtype option on import or set low_memory=False.\n",
            "  train_vi = pd.read_csv(path + \"/train.vi\", delimiter=\"\\t\")\n"
          ]
        }
      ]
    },
    {
      "cell_type": "markdown",
      "source": [
        "### Tìm hiểu về dữ liệu"
      ],
      "metadata": {
        "id": "2ORRKfiMggUJ"
      }
    },
    {
      "cell_type": "code",
      "source": [
        "train_en.head()"
      ],
      "metadata": {
        "colab": {
          "base_uri": "https://localhost:8080/",
          "height": 206
        },
        "id": "68EnxW9rAMpa",
        "outputId": "e2e9934d-d403-4109-d338-489c6ad041a6"
      },
      "execution_count": 69,
      "outputs": [
        {
          "output_type": "execute_result",
          "data": {
            "text/plain": [
              "  Rachel Pike : The science behind a climate headline Unnamed: 1\n",
              "0  In 4 minutes , atmospheric chemist Rachel Pike...         NaN\n",
              "1  I &apos;d like to talk to you today about the ...         NaN\n",
              "2  Headlines that look like this when they have t...         NaN\n",
              "3  They are both two branches of the same field o...         NaN\n",
              "4  Recently the headlines looked like this when t...         NaN"
            ],
            "text/html": [
              "\n",
              "  <div id=\"df-e5d7a4c7-9b6a-44b3-a4c5-b9bceee39581\">\n",
              "    <div class=\"colab-df-container\">\n",
              "      <div>\n",
              "<style scoped>\n",
              "    .dataframe tbody tr th:only-of-type {\n",
              "        vertical-align: middle;\n",
              "    }\n",
              "\n",
              "    .dataframe tbody tr th {\n",
              "        vertical-align: top;\n",
              "    }\n",
              "\n",
              "    .dataframe thead th {\n",
              "        text-align: right;\n",
              "    }\n",
              "</style>\n",
              "<table border=\"1\" class=\"dataframe\">\n",
              "  <thead>\n",
              "    <tr style=\"text-align: right;\">\n",
              "      <th></th>\n",
              "      <th>Rachel Pike : The science behind a climate headline</th>\n",
              "      <th>Unnamed: 1</th>\n",
              "    </tr>\n",
              "  </thead>\n",
              "  <tbody>\n",
              "    <tr>\n",
              "      <th>0</th>\n",
              "      <td>In 4 minutes , atmospheric chemist Rachel Pike...</td>\n",
              "      <td>NaN</td>\n",
              "    </tr>\n",
              "    <tr>\n",
              "      <th>1</th>\n",
              "      <td>I &amp;apos;d like to talk to you today about the ...</td>\n",
              "      <td>NaN</td>\n",
              "    </tr>\n",
              "    <tr>\n",
              "      <th>2</th>\n",
              "      <td>Headlines that look like this when they have t...</td>\n",
              "      <td>NaN</td>\n",
              "    </tr>\n",
              "    <tr>\n",
              "      <th>3</th>\n",
              "      <td>They are both two branches of the same field o...</td>\n",
              "      <td>NaN</td>\n",
              "    </tr>\n",
              "    <tr>\n",
              "      <th>4</th>\n",
              "      <td>Recently the headlines looked like this when t...</td>\n",
              "      <td>NaN</td>\n",
              "    </tr>\n",
              "  </tbody>\n",
              "</table>\n",
              "</div>\n",
              "      <button class=\"colab-df-convert\" onclick=\"convertToInteractive('df-e5d7a4c7-9b6a-44b3-a4c5-b9bceee39581')\"\n",
              "              title=\"Convert this dataframe to an interactive table.\"\n",
              "              style=\"display:none;\">\n",
              "        \n",
              "  <svg xmlns=\"http://www.w3.org/2000/svg\" height=\"24px\"viewBox=\"0 0 24 24\"\n",
              "       width=\"24px\">\n",
              "    <path d=\"M0 0h24v24H0V0z\" fill=\"none\"/>\n",
              "    <path d=\"M18.56 5.44l.94 2.06.94-2.06 2.06-.94-2.06-.94-.94-2.06-.94 2.06-2.06.94zm-11 1L8.5 8.5l.94-2.06 2.06-.94-2.06-.94L8.5 2.5l-.94 2.06-2.06.94zm10 10l.94 2.06.94-2.06 2.06-.94-2.06-.94-.94-2.06-.94 2.06-2.06.94z\"/><path d=\"M17.41 7.96l-1.37-1.37c-.4-.4-.92-.59-1.43-.59-.52 0-1.04.2-1.43.59L10.3 9.45l-7.72 7.72c-.78.78-.78 2.05 0 2.83L4 21.41c.39.39.9.59 1.41.59.51 0 1.02-.2 1.41-.59l7.78-7.78 2.81-2.81c.8-.78.8-2.07 0-2.86zM5.41 20L4 18.59l7.72-7.72 1.47 1.35L5.41 20z\"/>\n",
              "  </svg>\n",
              "      </button>\n",
              "      \n",
              "  <style>\n",
              "    .colab-df-container {\n",
              "      display:flex;\n",
              "      flex-wrap:wrap;\n",
              "      gap: 12px;\n",
              "    }\n",
              "\n",
              "    .colab-df-convert {\n",
              "      background-color: #E8F0FE;\n",
              "      border: none;\n",
              "      border-radius: 50%;\n",
              "      cursor: pointer;\n",
              "      display: none;\n",
              "      fill: #1967D2;\n",
              "      height: 32px;\n",
              "      padding: 0 0 0 0;\n",
              "      width: 32px;\n",
              "    }\n",
              "\n",
              "    .colab-df-convert:hover {\n",
              "      background-color: #E2EBFA;\n",
              "      box-shadow: 0px 1px 2px rgba(60, 64, 67, 0.3), 0px 1px 3px 1px rgba(60, 64, 67, 0.15);\n",
              "      fill: #174EA6;\n",
              "    }\n",
              "\n",
              "    [theme=dark] .colab-df-convert {\n",
              "      background-color: #3B4455;\n",
              "      fill: #D2E3FC;\n",
              "    }\n",
              "\n",
              "    [theme=dark] .colab-df-convert:hover {\n",
              "      background-color: #434B5C;\n",
              "      box-shadow: 0px 1px 3px 1px rgba(0, 0, 0, 0.15);\n",
              "      filter: drop-shadow(0px 1px 2px rgba(0, 0, 0, 0.3));\n",
              "      fill: #FFFFFF;\n",
              "    }\n",
              "  </style>\n",
              "\n",
              "      <script>\n",
              "        const buttonEl =\n",
              "          document.querySelector('#df-e5d7a4c7-9b6a-44b3-a4c5-b9bceee39581 button.colab-df-convert');\n",
              "        buttonEl.style.display =\n",
              "          google.colab.kernel.accessAllowed ? 'block' : 'none';\n",
              "\n",
              "        async function convertToInteractive(key) {\n",
              "          const element = document.querySelector('#df-e5d7a4c7-9b6a-44b3-a4c5-b9bceee39581');\n",
              "          const dataTable =\n",
              "            await google.colab.kernel.invokeFunction('convertToInteractive',\n",
              "                                                     [key], {});\n",
              "          if (!dataTable) return;\n",
              "\n",
              "          const docLinkHtml = 'Like what you see? Visit the ' +\n",
              "            '<a target=\"_blank\" href=https://colab.research.google.com/notebooks/data_table.ipynb>data table notebook</a>'\n",
              "            + ' to learn more about interactive tables.';\n",
              "          element.innerHTML = '';\n",
              "          dataTable['output_type'] = 'display_data';\n",
              "          await google.colab.output.renderOutput(dataTable, element);\n",
              "          const docLink = document.createElement('div');\n",
              "          docLink.innerHTML = docLinkHtml;\n",
              "          element.appendChild(docLink);\n",
              "        }\n",
              "      </script>\n",
              "    </div>\n",
              "  </div>\n",
              "  "
            ]
          },
          "metadata": {},
          "execution_count": 69
        }
      ]
    },
    {
      "cell_type": "code",
      "source": [
        "train_vi.head()"
      ],
      "metadata": {
        "colab": {
          "base_uri": "https://localhost:8080/",
          "height": 206
        },
        "id": "7DTCguRiA34q",
        "outputId": "75976b22-f396-4c8c-a23a-18841b42b0aa"
      },
      "execution_count": 74,
      "outputs": [
        {
          "output_type": "execute_result",
          "data": {
            "text/plain": [
              "            Khoa học đằng sau một tiêu đề về khí hậu Unnamed: 1\n",
              "0  Trong 4 phút , chuyên gia hoá học khí quyển Ra...        NaN\n",
              "1  Tôi muốn cho các bạn biết về sự to lớn của nhữ...        NaN\n",
              "2  Có những dòng trông như thế này khi bàn về biế...        NaN\n",
              "3  Cả hai đều là một nhánh của cùng một lĩnh vực ...        NaN\n",
              "4  Các tiêu đề gần đây trông như thế này khi Ban ...        NaN"
            ],
            "text/html": [
              "\n",
              "  <div id=\"df-f8208cc9-d0f4-463f-8902-497a44da8623\">\n",
              "    <div class=\"colab-df-container\">\n",
              "      <div>\n",
              "<style scoped>\n",
              "    .dataframe tbody tr th:only-of-type {\n",
              "        vertical-align: middle;\n",
              "    }\n",
              "\n",
              "    .dataframe tbody tr th {\n",
              "        vertical-align: top;\n",
              "    }\n",
              "\n",
              "    .dataframe thead th {\n",
              "        text-align: right;\n",
              "    }\n",
              "</style>\n",
              "<table border=\"1\" class=\"dataframe\">\n",
              "  <thead>\n",
              "    <tr style=\"text-align: right;\">\n",
              "      <th></th>\n",
              "      <th>Khoa học đằng sau một tiêu đề về khí hậu</th>\n",
              "      <th>Unnamed: 1</th>\n",
              "    </tr>\n",
              "  </thead>\n",
              "  <tbody>\n",
              "    <tr>\n",
              "      <th>0</th>\n",
              "      <td>Trong 4 phút , chuyên gia hoá học khí quyển Ra...</td>\n",
              "      <td>NaN</td>\n",
              "    </tr>\n",
              "    <tr>\n",
              "      <th>1</th>\n",
              "      <td>Tôi muốn cho các bạn biết về sự to lớn của nhữ...</td>\n",
              "      <td>NaN</td>\n",
              "    </tr>\n",
              "    <tr>\n",
              "      <th>2</th>\n",
              "      <td>Có những dòng trông như thế này khi bàn về biế...</td>\n",
              "      <td>NaN</td>\n",
              "    </tr>\n",
              "    <tr>\n",
              "      <th>3</th>\n",
              "      <td>Cả hai đều là một nhánh của cùng một lĩnh vực ...</td>\n",
              "      <td>NaN</td>\n",
              "    </tr>\n",
              "    <tr>\n",
              "      <th>4</th>\n",
              "      <td>Các tiêu đề gần đây trông như thế này khi Ban ...</td>\n",
              "      <td>NaN</td>\n",
              "    </tr>\n",
              "  </tbody>\n",
              "</table>\n",
              "</div>\n",
              "      <button class=\"colab-df-convert\" onclick=\"convertToInteractive('df-f8208cc9-d0f4-463f-8902-497a44da8623')\"\n",
              "              title=\"Convert this dataframe to an interactive table.\"\n",
              "              style=\"display:none;\">\n",
              "        \n",
              "  <svg xmlns=\"http://www.w3.org/2000/svg\" height=\"24px\"viewBox=\"0 0 24 24\"\n",
              "       width=\"24px\">\n",
              "    <path d=\"M0 0h24v24H0V0z\" fill=\"none\"/>\n",
              "    <path d=\"M18.56 5.44l.94 2.06.94-2.06 2.06-.94-2.06-.94-.94-2.06-.94 2.06-2.06.94zm-11 1L8.5 8.5l.94-2.06 2.06-.94-2.06-.94L8.5 2.5l-.94 2.06-2.06.94zm10 10l.94 2.06.94-2.06 2.06-.94-2.06-.94-.94-2.06-.94 2.06-2.06.94z\"/><path d=\"M17.41 7.96l-1.37-1.37c-.4-.4-.92-.59-1.43-.59-.52 0-1.04.2-1.43.59L10.3 9.45l-7.72 7.72c-.78.78-.78 2.05 0 2.83L4 21.41c.39.39.9.59 1.41.59.51 0 1.02-.2 1.41-.59l7.78-7.78 2.81-2.81c.8-.78.8-2.07 0-2.86zM5.41 20L4 18.59l7.72-7.72 1.47 1.35L5.41 20z\"/>\n",
              "  </svg>\n",
              "      </button>\n",
              "      \n",
              "  <style>\n",
              "    .colab-df-container {\n",
              "      display:flex;\n",
              "      flex-wrap:wrap;\n",
              "      gap: 12px;\n",
              "    }\n",
              "\n",
              "    .colab-df-convert {\n",
              "      background-color: #E8F0FE;\n",
              "      border: none;\n",
              "      border-radius: 50%;\n",
              "      cursor: pointer;\n",
              "      display: none;\n",
              "      fill: #1967D2;\n",
              "      height: 32px;\n",
              "      padding: 0 0 0 0;\n",
              "      width: 32px;\n",
              "    }\n",
              "\n",
              "    .colab-df-convert:hover {\n",
              "      background-color: #E2EBFA;\n",
              "      box-shadow: 0px 1px 2px rgba(60, 64, 67, 0.3), 0px 1px 3px 1px rgba(60, 64, 67, 0.15);\n",
              "      fill: #174EA6;\n",
              "    }\n",
              "\n",
              "    [theme=dark] .colab-df-convert {\n",
              "      background-color: #3B4455;\n",
              "      fill: #D2E3FC;\n",
              "    }\n",
              "\n",
              "    [theme=dark] .colab-df-convert:hover {\n",
              "      background-color: #434B5C;\n",
              "      box-shadow: 0px 1px 3px 1px rgba(0, 0, 0, 0.15);\n",
              "      filter: drop-shadow(0px 1px 2px rgba(0, 0, 0, 0.3));\n",
              "      fill: #FFFFFF;\n",
              "    }\n",
              "  </style>\n",
              "\n",
              "      <script>\n",
              "        const buttonEl =\n",
              "          document.querySelector('#df-f8208cc9-d0f4-463f-8902-497a44da8623 button.colab-df-convert');\n",
              "        buttonEl.style.display =\n",
              "          google.colab.kernel.accessAllowed ? 'block' : 'none';\n",
              "\n",
              "        async function convertToInteractive(key) {\n",
              "          const element = document.querySelector('#df-f8208cc9-d0f4-463f-8902-497a44da8623');\n",
              "          const dataTable =\n",
              "            await google.colab.kernel.invokeFunction('convertToInteractive',\n",
              "                                                     [key], {});\n",
              "          if (!dataTable) return;\n",
              "\n",
              "          const docLinkHtml = 'Like what you see? Visit the ' +\n",
              "            '<a target=\"_blank\" href=https://colab.research.google.com/notebooks/data_table.ipynb>data table notebook</a>'\n",
              "            + ' to learn more about interactive tables.';\n",
              "          element.innerHTML = '';\n",
              "          dataTable['output_type'] = 'display_data';\n",
              "          await google.colab.output.renderOutput(dataTable, element);\n",
              "          const docLink = document.createElement('div');\n",
              "          docLink.innerHTML = docLinkHtml;\n",
              "          element.appendChild(docLink);\n",
              "        }\n",
              "      </script>\n",
              "    </div>\n",
              "  </div>\n",
              "  "
            ]
          },
          "metadata": {},
          "execution_count": 74
        }
      ]
    },
    {
      "cell_type": "code",
      "source": [
        "print(train_dataset3_en)"
      ],
      "metadata": {
        "id": "YwCNkk_FoA5n"
      },
      "execution_count": null,
      "outputs": []
    },
    {
      "cell_type": "code",
      "source": [
        "print(test_dataset3_en)"
      ],
      "metadata": {
        "id": "AVpktsBfqNVM"
      },
      "execution_count": null,
      "outputs": []
    },
    {
      "cell_type": "code",
      "source": [
        "print(train_dataset3_vi)"
      ],
      "metadata": {
        "id": "Xwlv4ct3cpQP"
      },
      "execution_count": null,
      "outputs": []
    },
    {
      "cell_type": "code",
      "source": [
        "print(test_dataset3_vi)"
      ],
      "metadata": {
        "id": "IBNGldfopk0b"
      },
      "execution_count": null,
      "outputs": []
    },
    {
      "cell_type": "code",
      "source": [
        "train_dataset3_vi.info()"
      ],
      "metadata": {
        "colab": {
          "base_uri": "https://localhost:8080/"
        },
        "id": "zfMurR3yeNlM",
        "outputId": "a9d75f6e-ffca-4419-ef35-1f2e8e2ed2be"
      },
      "execution_count": null,
      "outputs": [
        {
          "output_type": "stream",
          "name": "stdout",
          "text": [
            "<class 'pandas.core.frame.DataFrame'>\n",
            "Index: 402643 entries, Khoa học đằng sau một tiêu đề về khí hậu to nan\n",
            "Data columns (total 1 columns):\n",
            " #   Column  Non-Null Count   Dtype \n",
            "---  ------  --------------   ----- \n",
            " 0   vi      269438 non-null  object\n",
            "dtypes: object(1)\n",
            "memory usage: 6.1+ MB\n"
          ]
        }
      ]
    },
    {
      "cell_type": "code",
      "source": [
        "test_dataset3_vi.info()"
      ],
      "metadata": {
        "colab": {
          "base_uri": "https://localhost:8080/"
        },
        "id": "FYc1h8pNeuPj",
        "outputId": "a32b0d13-202a-4027-dce7-f523e0d228af"
      },
      "execution_count": null,
      "outputs": [
        {
          "output_type": "stream",
          "name": "stdout",
          "text": [
            "<class 'pandas.core.frame.DataFrame'>\n",
            "Index: 4659 entries, Làm sao tôi có thể trình bày trong 10 phút về sợi dây liên kết những người phụ nữ qua ba thế hệ , về việc làm thế nào những sợi dây mạnh mẽ đáng kinh ngạc ấy đã níu chặt lấy cuộc sống của một cô bé bốn tuổi co quắp với đứa em gái nhỏ của cô bé , với mẹ và bà trong suốt năm ngày đêm trên con thuyền nhỏ lênh đênh trên Biển Đông hơn 30 năm trước , những sợi dây liên kết đã níu lấy cuộc đời cô bé ấy và không bao giờ rời đi -- cô bé ấy giờ sống ở San Francisco và đang nói chuyện với các bạn hôm nay ? to nan\n",
            "Data columns (total 1 columns):\n",
            " #   Column  Non-Null Count  Dtype \n",
            "---  ------  --------------  ----- \n",
            " 0   vi      3106 non-null   object\n",
            "dtypes: object(1)\n",
            "memory usage: 72.8+ KB\n"
          ]
        }
      ]
    },
    {
      "cell_type": "code",
      "source": [
        "train_dataset3_en.info()"
      ],
      "metadata": {
        "colab": {
          "base_uri": "https://localhost:8080/"
        },
        "id": "-6EYvDxZeuKs",
        "outputId": "a699c395-a3d0-47a5-944a-0b5811f8a774"
      },
      "execution_count": null,
      "outputs": [
        {
          "output_type": "stream",
          "name": "stdout",
          "text": [
            "<class 'pandas.core.frame.DataFrame'>\n",
            "Index: 267887 entries, Rachel Pike : The science behind a climate headline to nan\n",
            "Data columns (total 1 columns):\n",
            " #   Column  Non-Null Count   Dtype \n",
            "---  ------  --------------   ----- \n",
            " 0   en      134719 non-null  object\n",
            "dtypes: object(1)\n",
            "memory usage: 4.1+ MB\n"
          ]
        }
      ]
    },
    {
      "cell_type": "code",
      "source": [
        "test_dataset3_en.info()"
      ],
      "metadata": {
        "colab": {
          "base_uri": "https://localhost:8080/"
        },
        "id": "oZl2rvUYeuNG",
        "outputId": "abbd2ff9-6109-4ad6-c51c-a4e960c40ec4"
      },
      "execution_count": null,
      "outputs": [
        {
          "output_type": "stream",
          "name": "stdout",
          "text": [
            "<class 'pandas.core.frame.DataFrame'>\n",
            "Index: 3106 entries, How can I speak in 10 minutes about the bonds of women over three generations , about how the astonishing strength of those bonds took hold in the life of a four-year-old girl huddled with her young sister , her mother and her grandmother for five days and nights in a small boat in the China Sea more than 30 years ago , bonds that took hold in the life of that small girl and never let go -- that small girl now living in San Francisco and speaking to you today ? to nan\n",
            "Data columns (total 1 columns):\n",
            " #   Column  Non-Null Count  Dtype \n",
            "---  ------  --------------  ----- \n",
            " 0   en      1553 non-null   object\n",
            "dtypes: object(1)\n",
            "memory usage: 48.5+ KB\n"
          ]
        }
      ]
    },
    {
      "cell_type": "markdown",
      "source": [
        "- có thể thấy dữ liệu đều là kiểu định tính object"
      ],
      "metadata": {
        "id": "6o9rx0vvitI7"
      }
    },
    {
      "cell_type": "code",
      "source": [],
      "metadata": {
        "id": "SQLW2XuhjwVh"
      },
      "execution_count": null,
      "outputs": []
    },
    {
      "cell_type": "markdown",
      "source": [
        "###Phân tích từ vựng (Vocabulary analysis):"
      ],
      "metadata": {
        "id": "twExm3XfAV4A"
      }
    },
    {
      "cell_type": "code",
      "source": [
        "# Tokenize và tính toán tần suất từ vựng\n",
        "words = word_tokenize(train_en['Rachel Pike : The science behind a climate headline'].str.cat(sep=' '))\n",
        "fdist = FreqDist(words)\n",
        "\n",
        "# Số lượng từ riêng biệt trong tập dữ liệu\n",
        "vocab_size = len(fdist)\n",
        "\n",
        "# 10 từ xuất hiện nhiều nhất\n",
        "most_common_words = fdist.most_common(10)\n",
        "\n",
        "# Trực quan hóa tần suất từ vựng\n",
        "fdist.plot(30, cumulative=False)\n",
        "plt.show()"
      ],
      "metadata": {
        "id": "DWTiCZKvkJhT",
        "colab": {
          "base_uri": "https://localhost:8080/",
          "height": 480
        },
        "outputId": "2a63dcaa-f6b6-430e-a320-db20f24a9de0"
      },
      "execution_count": 71,
      "outputs": [
        {
          "output_type": "display_data",
          "data": {
            "text/plain": [
              "<Figure size 640x480 with 1 Axes>"
            ],
            "image/png": "[encoded data removed]"
          },
          "metadata": {}
        }
      ]
    },
    {
      "cell_type": "code",
      "source": [
        "# Tokenize và tính toán tần suất từ vựng\n",
        "words = word_tokenize(train_vi['Khoa học đằng sau một tiêu đề về khí hậu'].str.cat(sep=' '))\n",
        "fdist = FreqDist(words)\n",
        "\n",
        "# Số lượng từ riêng biệt trong tập dữ liệu\n",
        "vocab_size = len(fdist)\n",
        "\n",
        "# 10 từ xuất hiện nhiều nhất\n",
        "most_common_words = fdist.most_common(10)\n",
        "\n",
        "# Trực quan hóa tần suất từ vựng\n",
        "fdist.plot(30, cumulative=False)\n",
        "plt.show()"
      ],
      "metadata": {
        "colab": {
          "base_uri": "https://localhost:8080/",
          "height": 491
        },
        "id": "kpvcBJUoBBrt",
        "outputId": "a056e9da-6e5e-4e72-9a51-8604cfb38d4e"
      },
      "execution_count": 75,
      "outputs": [
        {
          "output_type": "display_data",
          "data": {
            "text/plain": [
              "<Figure size 640x480 with 1 Axes>"
            ],
            "image/png": "[encoded data removed]"
          },
          "metadata": {}
        }
      ]
    },
    {
      "cell_type": "markdown",
      "source": [
        "Ở trục x của biểu đồ, chúng ta có các từ từ vựng riêng biệt trong tập dữ liệu. Ở trục y, chúng ta có tần suất xuất hiện của các từ đó. Các thanh dọc trong biểu đồ thể hiện tần suất của các từ tương ứng.\n",
        "\n",
        "Đồ thị có thể giúp chúng ta hiểu được phân phối từ vựng trong tập dữ liệu. Các từ xuất hiện nhiều hơn sẽ có các thanh dọc cao hơn, trong khi các từ xuất hiện ít hơn sẽ có các thanh dọc thấp hơn.\n",
        "\n",
        "Đồ thị này cũng giúp chúng ta xác định các từ phổ biến nhất trong tập dữ liệu. Trong trường hợp này, most_common_words chứa danh sách 10 từ xuất hiện nhiều nhất. Bạn có thể sử dụng biểu đồ và danh sách này để hiểu thêm về phân phối từ vựng và các từ quan trọng trong tập dữ liệu."
      ],
      "metadata": {
        "id": "ATekcivjBQME"
      }
    },
    {
      "cell_type": "markdown",
      "source": [
        "###Phân tích độ dài văn bản (Text length analysis):"
      ],
      "metadata": {
        "id": "yItRYlskAlVe"
      }
    },
    {
      "cell_type": "code",
      "source": [
        "# Độ dài trung bình của các văn bản\n",
        "average_length = train_en['Rachel Pike : The science behind a climate headline'].str.len().mean()\n",
        "\n",
        "# Văn bản có độ dài lớn nhất\n",
        "max_length_text = train_en['Rachel Pike : The science behind a climate headline'].str.len().max()\n",
        "\n",
        "# Văn bản có độ dài nhỏ nhất\n",
        "min_length_text = train_en['Rachel Pike : The science behind a climate headline'].str.len().min()\n",
        "\n",
        "# Phân phối độ dài văn bản\n",
        "length_distribution = train_en['Rachel Pike : The science behind a climate headline'].str.len().hist()\n",
        "plt.show()\n"
      ],
      "metadata": {
        "id": "IyPcoFUCsfN9",
        "colab": {
          "base_uri": "https://localhost:8080/",
          "height": 434
        },
        "outputId": "09bc60dc-3742-4dfa-be18-33dc1dad1637"
      },
      "execution_count": 72,
      "outputs": [
        {
          "output_type": "display_data",
          "data": {
            "text/plain": [
              "<Figure size 640x480 with 1 Axes>"
            ],
            "image/png": "[encoded data removed]"
          },
          "metadata": {}
        }
      ]
    },
    {
      "cell_type": "code",
      "source": [
        "# Độ dài trung bình của các văn bản\n",
        "average_length = train_vi['Khoa học đằng sau một tiêu đề về khí hậu'].str.len().mean()\n",
        "\n",
        "# Văn bản có độ dài lớn nhất\n",
        "max_length_text = train_vi['Khoa học đằng sau một tiêu đề về khí hậu'].str.len().max()\n",
        "\n",
        "# Văn bản có độ dài nhỏ nhất\n",
        "min_length_text = train_vi['Khoa học đằng sau một tiêu đề về khí hậu'].str.len().min()\n",
        "\n",
        "# Phân phối độ dài văn bản\n",
        "length_distribution = train_vi['Khoa học đằng sau một tiêu đề về khí hậu'].str.len().hist()\n",
        "plt.show()"
      ],
      "metadata": {
        "colab": {
          "base_uri": "https://localhost:8080/",
          "height": 434
        },
        "id": "sGkV3vyEAoAW",
        "outputId": "7e8dc472-15d2-488d-9d3e-ebda0e930160"
      },
      "execution_count": 76,
      "outputs": [
        {
          "output_type": "display_data",
          "data": {
            "text/plain": [
              "<Figure size 640x480 with 1 Axes>"
            ],
            "image/png": "[encoded data removed]"
          },
          "metadata": {}
        }
      ]
    },
    {
      "cell_type": "markdown",
      "source": [
        "Biểu đồ này biểu diễn phân phối độ dài của các văn bản trong tập dữ liệu.\n",
        "\n",
        "Trục x của biểu đồ hiển thị các khoảng độ dài văn bản. Trục y thể hiện số lượng văn bản trong mỗi khoảng độ dài.\n",
        "\n",
        "Biểu đồ histogram cho chúng ta cái nhìn tổng quan về phân phối độ dài của văn bản trong tập dữ liệu. Các cột trong biểu đồ thể hiện số lượng văn bản nằm trong mỗi khoảng độ dài tương ứng. Điều này giúp chúng ta hiểu được phân bố độ dài văn bản, xem có xu hướng nào hay phân bố nào đặc biệt trong tập dữ liệu.\n"
      ],
      "metadata": {
        "id": "IDpliiYaBTj9"
      }
    },
    {
      "cell_type": "code",
      "source": [],
      "metadata": {
        "id": "BVOo8tDoBF_J"
      },
      "execution_count": null,
      "outputs": []
    }
  ]
}
