{
  "nbformat": 4,
  "nbformat_minor": 0,
  "metadata": {
    "colab": {
      "provenance": []
    },
    "kernelspec": {
      "name": "python3",
      "display_name": "Python 3"
    },
    "language_info": {
      "name": "python"
    }
  },
  "cells": [
    {
      "cell_type": "code",
      "execution_count": 9,
      "metadata": {
        "id": "lQr2IeJFaH43"
      },
      "outputs": [],
      "source": [
        "import pandas as pd\n",
        "import os"
      ]
    },
    {
      "cell_type": "code",
      "source": [
        "dataset1_path = \"/content/drive/MyDrive/Colab Notebooks/dataset1\"\n",
        "dataset2_path = \"/content/drive/MyDrive/Colab Notebooks/dataset2\""
      ],
      "metadata": {
        "id": "AzCIsmjjacQ2"
      },
      "execution_count": 10,
      "outputs": []
    },
    {
      "cell_type": "code",
      "source": [
        "train_dataset1 = pd.read_csv(os.path.join(dataset1_path, \"train.csv\"))\n",
        "test_dataset1 = pd.read_csv(os.path.join(dataset1_path, \"test.csv\"))"
      ],
      "metadata": {
        "id": "iPoM9TiTbvbi"
      },
      "execution_count": 11,
      "outputs": []
    },
    {
      "cell_type": "code",
      "source": [
        "train_dataset2 = pd.read_csv(os.path.join(dataset2_path, \"train.en\"), sep=\"\\t\", names=[\"en\"])\n",
        "test_dataset2 = pd.read_csv(os.path.join(dataset2_path, \"tst2012.en\"), sep=\"\\t\", names=[\"en\"])"
      ],
      "metadata": {
        "id": "2f_XVtxDbzEF"
      },
      "execution_count": 12,
      "outputs": []
    },
    {
      "cell_type": "code",
      "source": [
        "train_dataset2 = pd.concat([train_dataset2, train_dataset1[\"en\"], test_dataset1[\"en\"]], axis=0)"
      ],
      "metadata": {
        "id": "cexUUw49b24g"
      },
      "execution_count": 13,
      "outputs": []
    },
    {
      "cell_type": "code",
      "source": [
        "print(train_dataset2)"
      ],
      "metadata": {
        "colab": {
          "base_uri": "https://localhost:8080/"
        },
        "id": "YwCNkk_FoA5n",
        "outputId": "8b8eb929-ae18-4fab-f07c-e60df7c801a0"
      },
      "execution_count": 14,
      "outputs": [
        {
          "output_type": "stream",
          "name": "stdout",
          "text": [
            "                                                     en  \\\n",
            "0     Rachel Pike : The science behind a climate hea...   \n",
            "1     In 4 minutes , atmospheric chemist Rachel Pike...   \n",
            "2     I &apos;d like to talk to you today about the ...   \n",
            "3     Headlines that look like this when they have t...   \n",
            "4     They are both two branches of the same field o...   \n",
            "...                                                 ...   \n",
            "1548                                                NaN   \n",
            "1549                                                NaN   \n",
            "1550                                                NaN   \n",
            "1551                                                NaN   \n",
            "1552                                                NaN   \n",
            "\n",
            "                                                      0  \n",
            "0                                                   NaN  \n",
            "1                                                   NaN  \n",
            "2                                                   NaN  \n",
            "3                                                   NaN  \n",
            "4                                                   NaN  \n",
            "...                                                 ...  \n",
            "1548  This is not a question between privacy against...  \n",
            "1549  It &apos;s a question of freedom against contr...  \n",
            "1550  And while we might trust our governments right...  \n",
            "1551  And do we trust , do we blindly trust , any fu...  \n",
            "1552  And these are the questions that we have to wo...  \n",
            "\n",
            "[267887 rows x 2 columns]\n"
          ]
        }
      ]
    },
    {
      "cell_type": "code",
      "source": [
        "train_dataset2.to_csv(\"/content/drive/MyDrive/Colab Notebooks/dataset3/train.en\", sep=\"\\t\", index=False, header=False)"
      ],
      "metadata": {
        "id": "TuZTjvaWcLSj"
      },
      "execution_count": 15,
      "outputs": []
    },
    {
      "cell_type": "code",
      "source": [
        "test_dataset2 = pd.concat([test_dataset2, test_dataset1[\"en\"]], axis=0)"
      ],
      "metadata": {
        "id": "TnBoplwjp00L"
      },
      "execution_count": 29,
      "outputs": []
    },
    {
      "cell_type": "code",
      "source": [
        "print(test_dataset2)"
      ],
      "metadata": {
        "colab": {
          "base_uri": "https://localhost:8080/"
        },
        "id": "AVpktsBfqNVM",
        "outputId": "259a906b-2a86-4ff6-ad4a-58f7098cbabb"
      },
      "execution_count": 30,
      "outputs": [
        {
          "output_type": "stream",
          "name": "stdout",
          "text": [
            "                                                     en  \\\n",
            "0     How can I speak in 10 minutes about the bonds ...   \n",
            "1                        This is not a finished story .   \n",
            "2      It is a jigsaw puzzle still being put together .   \n",
            "3            Let me tell you about some of the pieces .   \n",
            "4     Imagine the first piece : a man burning his li...   \n",
            "...                                                 ...   \n",
            "1548                                                NaN   \n",
            "1549                                                NaN   \n",
            "1550                                                NaN   \n",
            "1551                                                NaN   \n",
            "1552                                                NaN   \n",
            "\n",
            "                                                      0  \n",
            "0                                                   NaN  \n",
            "1                                                   NaN  \n",
            "2                                                   NaN  \n",
            "3                                                   NaN  \n",
            "4                                                   NaN  \n",
            "...                                                 ...  \n",
            "1548  This is not a question between privacy against...  \n",
            "1549  It &apos;s a question of freedom against contr...  \n",
            "1550  And while we might trust our governments right...  \n",
            "1551  And do we trust , do we blindly trust , any fu...  \n",
            "1552  And these are the questions that we have to wo...  \n",
            "\n",
            "[6212 rows x 2 columns]\n"
          ]
        }
      ]
    },
    {
      "cell_type": "code",
      "source": [
        "test_dataset2.to_csv(\"/content/drive/MyDrive/Colab Notebooks/dataset3/tst2012.en\", sep=\"\\t\", index=False, header=False)"
      ],
      "metadata": {
        "id": "asJMnycPqR-M"
      },
      "execution_count": 32,
      "outputs": []
    },
    {
      "cell_type": "code",
      "source": [
        "train_dataset2_vi = pd.read_csv(os.path.join(dataset2_path, \"train.vi\"), sep=\"\\t\", names=[\"vi\"])\n",
        "test_dataset2_vi = pd.read_csv(os.path.join(dataset2_path, \"tst2012.vi\"), sep=\"\\t\", names=[\"vi\"])"
      ],
      "metadata": {
        "id": "pNDsG2pAcObl"
      },
      "execution_count": 33,
      "outputs": []
    },
    {
      "cell_type": "code",
      "source": [
        "train_dataset2_vi = pd.concat([train_dataset2_vi, train_dataset1[\"vi\"], test_dataset1[\"vi\"]], axis=0)"
      ],
      "metadata": {
        "id": "cX7mEPBRcnR6"
      },
      "execution_count": 34,
      "outputs": []
    },
    {
      "cell_type": "code",
      "source": [
        "print(train_dataset2_vi)"
      ],
      "metadata": {
        "id": "Xwlv4ct3cpQP",
        "colab": {
          "base_uri": "https://localhost:8080/"
        },
        "outputId": "2ac7ef62-e832-4397-c687-4158b969338e"
      },
      "execution_count": 35,
      "outputs": [
        {
          "output_type": "stream",
          "name": "stdout",
          "text": [
            "                                                     vi  \\\n",
            "0              Khoa học đằng sau một tiêu đề về khí hậu   \n",
            "1     Trong 4 phút , chuyên gia hoá học khí quyển Ra...   \n",
            "2     Tôi muốn cho các bạn biết về sự to lớn của nhữ...   \n",
            "3     Có những dòng trông như thế này khi bàn về biế...   \n",
            "4     Cả hai đều là một nhánh của cùng một lĩnh vực ...   \n",
            "...                                                 ...   \n",
            "1548                                                NaN   \n",
            "1549                                                NaN   \n",
            "1550                                                NaN   \n",
            "1551                                                NaN   \n",
            "1552                                                NaN   \n",
            "\n",
            "                                                      0  \n",
            "0                                                   NaN  \n",
            "1                                                   NaN  \n",
            "2                                                   NaN  \n",
            "3                                                   NaN  \n",
            "4                                                   NaN  \n",
            "...                                                 ...  \n",
            "1548  Đây không phải là vấn_đề giữa quyền riêng_tư v...  \n",
            "1549     Đây là một vấn_đề giữa tự_do và sự kiểm_soát .  \n",
            "1550  Và trong khi chúng_ta vẫn tin_tưởng vào chính_...  \n",
            "1551  Và liệu chúng_ta có còn tin_tưởng , một_cách m...  \n",
            "1552  Đó chính là câu hỏi mà chúng_ta sẽ phải lo_lắn...  \n",
            "\n",
            "[267924 rows x 2 columns]\n"
          ]
        }
      ]
    },
    {
      "cell_type": "code",
      "source": [
        "train_dataset2_vi.to_csv(\"/content/drive/MyDrive/Colab Notebooks/dataset3/train.vi\", sep=\"\\t\", index=False, header=False)"
      ],
      "metadata": {
        "id": "xGN1sWLqcvu7"
      },
      "execution_count": 36,
      "outputs": []
    },
    {
      "cell_type": "code",
      "source": [
        "test_dataset2_vi = pd.concat([test_dataset2_vi, test_dataset1[\"vi\"]], axis=0)"
      ],
      "metadata": {
        "id": "yaMFmR8zcyu8"
      },
      "execution_count": 37,
      "outputs": []
    },
    {
      "cell_type": "code",
      "source": [
        "print(test_dataset2_vi)"
      ],
      "metadata": {
        "id": "wa33uVjTc57D",
        "colab": {
          "base_uri": "https://localhost:8080/"
        },
        "outputId": "a715e865-1b1c-441a-ce30-ec774ec355a5"
      },
      "execution_count": 38,
      "outputs": [
        {
          "output_type": "stream",
          "name": "stdout",
          "text": [
            "                                                     vi  \\\n",
            "0     Làm sao tôi có thể trình bày trong 10 phút về ...   \n",
            "1                        Câu chuyện này chưa kết thúc .   \n",
            "2      Nó là một trò chơi ghép hình vẫn đang được xếp .   \n",
            "3      Hãy để tôi kể cho các bạn về vài mảnh ghép nhé .   \n",
            "4     Hãy tưởng tượng mảnh đầu tiên : một người đàn ...   \n",
            "...                                                 ...   \n",
            "1548                                                NaN   \n",
            "1549                                                NaN   \n",
            "1550                                                NaN   \n",
            "1551                                                NaN   \n",
            "1552                                                NaN   \n",
            "\n",
            "                                                      0  \n",
            "0                                                   NaN  \n",
            "1                                                   NaN  \n",
            "2                                                   NaN  \n",
            "3                                                   NaN  \n",
            "4                                                   NaN  \n",
            "...                                                 ...  \n",
            "1548  Đây không phải là vấn_đề giữa quyền riêng_tư v...  \n",
            "1549     Đây là một vấn_đề giữa tự_do và sự kiểm_soát .  \n",
            "1550  Và trong khi chúng_ta vẫn tin_tưởng vào chính_...  \n",
            "1551  Và liệu chúng_ta có còn tin_tưởng , một_cách m...  \n",
            "1552  Đó chính là câu hỏi mà chúng_ta sẽ phải lo_lắn...  \n",
            "\n",
            "[3106 rows x 2 columns]\n"
          ]
        }
      ]
    },
    {
      "cell_type": "code",
      "source": [
        "test_dataset2_vi.to_csv(\"/content/drive/MyDrive/Colab Notebooks/dataset3/tst2012.vi\", sep=\"\\t\", index=False, header=False)"
      ],
      "metadata": {
        "id": "n-KLsO54pguT"
      },
      "execution_count": 39,
      "outputs": []
    },
    {
      "cell_type": "code",
      "source": [],
      "metadata": {
        "id": "IBNGldfopk0b"
      },
      "execution_count": 39,
      "outputs": []
    }
  ]
}
